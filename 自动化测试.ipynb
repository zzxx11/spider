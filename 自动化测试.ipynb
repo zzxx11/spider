{
 "cells": [
  {
   "cell_type": "code",
   "execution_count": 104,
   "metadata": {},
   "outputs": [],
   "source": [
    "from selenium import webdriver\n",
    "browser = webdriver.Chrome()"
   ]
  },
  {
   "cell_type": "code",
   "execution_count": 105,
   "metadata": {},
   "outputs": [],
   "source": [
    "url = 'https://search.jd.com/Search?keyword=%E5%9B%BA%E6%80%81&enc=utf-8&wq=%E5%9B%BA%E6%80%81'\n",
    "browser.get(url)"
   ]
  },
  {
   "cell_type": "code",
   "execution_count": 106,
   "metadata": {},
   "outputs": [],
   "source": [
    "import time\n",
    "def drop_down():\n",
    "    #下拉滚动条到底部\n",
    "    js=\"var q=document.documentElement.scrollTop=document.body.scrollHeight/2\"\n",
    "    time.sleep(3)\n",
    "    js=\"var q=document.documentElement.scrollTop=document.body.scrollHeight\"\n",
    "#     js=\"var q=document.documentElement.scrollTop=0\"\n",
    "    browser.execute_script(js)\n",
    "    time.sleep(3)\n",
    "drop_down()"
   ]
  },
  {
   "cell_type": "code",
   "execution_count": 107,
   "metadata": {},
   "outputs": [
    {
     "data": {
      "text/plain": [
       "[{'title': '西部数据(WD) Green系列 240GB SSD固态硬盘'},\n",
       " {'title': '三星(SAMSUNG) 860 EVO 250G 2.5英寸 SATAIII 固态硬盘（MZ-76E250B）'},\n",
       " {'title': '金士顿(Kingston)A400系列 240G SATA3 固态硬盘'},\n",
       " {'title': '英特尔（Intel）545S系列 256G SATA3 固态硬盘'},\n",
       " {'title': '三星(SAMSUNG) 860 EVO 500G 2.5英寸 SATAIII 固态硬盘（MZ-76E500B）'},\n",
       " {'title': '东芝(TOSHIBA) TR200系列 240GB SATA3 固态硬盘'},\n",
       " {'title': '金士顿(Kingston)A400系列 120G SATA3 固态硬盘'},\n",
       " {'title': '联想（Lenovo)SL700 120G SATA3 闪电鲨系列SSD固态硬盘'},\n",
       " {'title': '西部数据(WD) Black系列 250GB M.2接口(NVMe协议) 高性能SSD固态硬盘(发烧级享五年质保)'},\n",
       " {'title': '三星(SAMSUNG) 970 EVO 250G NVMe M.2 固态硬盘（MZ-V7E250BW）'},\n",
       " {'title': '联想（Lenovo)SL700 240G SATA3 闪电鲨系列SSD固态硬盘'},\n",
       " {'title': ''},\n",
       " {'title': '金百达（KINGBANK）KP330 120G SATA3 固态硬盘'},\n",
       " {'title': '英睿达(Crucial) BX500系列 240G SATA3固态硬盘'},\n",
       " {'title': '金士顿(Kingston)A400系列 480G SATA3 固态硬盘'},\n",
       " {'title': '金百达（KINGBANK）KP330 240G SATA3 固态硬盘'},\n",
       " {'title': '东芝(TOSHIBA) TR200系列 480GB SATA3 固态硬盘'},\n",
       " {'title': '金胜(Kingshare)E330系列 120G SATA3固态硬盘'},\n",
       " {'title': 'HP EX900系列 250G M.2 NVMe 固态硬盘'},\n",
       " {'title': ''},\n",
       " {'title': '金士顿(Kingston) A1000系列 240G M.2 NVMe 固态硬盘'},\n",
       " {'title': '七彩虹（Colorful）SL300 128GB SATA3 SSD固态硬盘'},\n",
       " {'title': '影驰 铁甲战将 240G非256g SATA3 SSD 超128G笔记本台式机吃鸡固态硬盘'},\n",
       " {'title': '金泰克（Tigo）S300系列 120GB SATA3 固态硬盘'},\n",
       " {'title': '浦科特（PLEXTOR）M8VC 256G SATA3固态硬盘'},\n",
       " {'title': '闪迪(SanDisk) 加强版 480G 固态硬盘'},\n",
       " {'title': '英睿达(Crucial) BX500系列 120G SATA3固态硬盘'},\n",
       " {'title': ''},\n",
       " {'title': '东芝(TOSHIBA) Q200EX系列 240G M.2固态硬盘'},\n",
       " {'title': '阿斯加特(Asgard) AN系列 256G M.2接口(NVMe协议) SSD固态硬盘'},\n",
       " {'title': '英特尔（Intel）760P系列 256G NVME M.2 2280接口 固态硬盘'},\n",
       " {'title': '三星(SAMSUNG) 970 EVO 500G NVMe M.2 固态硬盘（MZ-V7E500BW）'},\n",
       " {'title': '影驰 铁甲战将120g/128g/240g/480g SATA3电脑台式机笔记本固态硬盘SSD 240G固态硬盘'},\n",
       " {'title': '光威(Gloway) 悍将 480G 固态硬盘'},\n",
       " {'title': '英特尔（Intel）545S系列 128G SATA3 固态硬盘'},\n",
       " {'title': '东芝(TOSHIBA) Q200系列 240GB SATA3 固态硬盘'},\n",
       " {'title': '光威(Gloway) 猛将 120G 固态硬盘'},\n",
       " {'title': '金胜(Kingshare)E330系列 240G SATA3固态硬盘'},\n",
       " {'title': '英特尔（Intel）545S系列 512G SATA3 固态硬盘'},\n",
       " {'title': '三星(SAMSUNG) 850 120G SATA3 固态硬盘'},\n",
       " {'title': 'HP EX900系列 120G M.2 NVMe 固态硬盘'},\n",
       " {'title': '朗科（Netac）超光系列N530S 120GB SATA3固态硬盘'},\n",
       " {'title': '闪迪(SanDisk) 至尊高速系列-3D版 250G 固态硬盘'},\n",
       " {'title': '东芝（TOSHIBA） SSD固态硬盘240G台式电脑固态硬盘笔记本硬盘SATA3非256g 240G TR200系列'},\n",
       " {'title': '光威(Gloway) 悍将 720G 固态硬盘'},\n",
       " {'title': '金士顿（Kingston）240G固态硬盘120G纯净系统SATA3笔记本SSD台式机电脑 A400 120G 非128g【送螺丝刀+通用支架+数据线】'},\n",
       " {'title': 'HP S700系列 120G 2.5英寸SATA接口 固态硬盘'},\n",
       " {'title': '联想（Lenovo)SL700 480G SATA3 闪电鲨系列 SSD 固态硬盘'},\n",
       " {'title': '金士顿(Kingston)UV500系列 120G SATA3 固态硬盘'},\n",
       " {'title': '七彩虹（Colorful）SL500 480GB SATA3 SSD固态硬盘'},\n",
       " {'title': '阿斯加特(Asgard) AN系列 1TB M.2接口(NVMe协议) SSD固态硬盘'},\n",
       " {'title': '七彩虹（Colorful）SL300 120GB  SATA3 SSD固态硬盘'},\n",
       " {'title': '联想（Lenovo）SL700 128G M.2 2280 固态宝系列 SSD固态硬盘'},\n",
       " {'title': '英睿达(Crucial) BX300系列 120G SATA3固态硬盘'},\n",
       " {'title': '西部数据(WD) Green系列 240GB M.2接口(SATA协议) SSD固态硬盘'},\n",
       " {'title': '联想（Lenovo）SL700 128G M.2 2242 固态宝系列 SSD固态硬盘'},\n",
       " {'title': '台电(TECLAST) S500极速-升级主流款 120GB SATA6Gb/s接口 SSD固态硬盘'},\n",
       " {'title': '七彩虹（Colorful）SL500 240GB SATA3 SSD固态硬盘'},\n",
       " {'title': '金泰克（Tigo）S300 240G SATA3 固态硬盘'},\n",
       " {'title': '浦科特（PLEXTOR）M9PeG 256G M.2 NVMe固态硬盘（带散热片）'}]"
      ]
     },
     "execution_count": 107,
     "metadata": {},
     "output_type": "execute_result"
    }
   ],
   "source": [
    "from lxml import etree\n",
    "html = etree.HTML(browser.page_source)\n",
    "\n",
    "goods = []\n",
    "\n",
    "def get_title(html):\n",
    "    num = len(html.xpath('//*[@id=\"J_goodsList\"]/ul/li'))\n",
    "    for i in range(num):\n",
    "        commodity = dict()\n",
    "        xp = '//*[@id=\"J_goodsList\"]/ul/li[{}]/div/div[3]/a/em//text()'.format(i+1)\n",
    "        titles = html.xpath(xp)\n",
    "        title = ''.join(titles)\n",
    "        commodity['title'] = title\n",
    "#         print(commodity)\n",
    "        goods.append(commodity)\n",
    "           \n",
    "get_title(html)\n",
    "\n",
    "goods"
   ]
  },
  {
   "cell_type": "code",
   "execution_count": 108,
   "metadata": {},
   "outputs": [],
   "source": [
    "browser.find_element_by_css_selector('#J_bottomPage > span.p-num > a.pn-next').click()"
   ]
  },
  {
   "cell_type": "code",
   "execution_count": 103,
   "metadata": {},
   "outputs": [
    {
     "data": {
      "text/plain": [
       "['249.00',\n",
       " '99.00',\n",
       " '249.00',\n",
       " '389.00',\n",
       " '1999.00',\n",
       " '299.00',\n",
       " '379.00',\n",
       " '229.00',\n",
       " '189.00',\n",
       " '218.00',\n",
       " '529.00',\n",
       " '36960.00',\n",
       " '599.00',\n",
       " '319.00',\n",
       " '189.00',\n",
       " '188.00',\n",
       " '219.00',\n",
       " '175.00',\n",
       " '569.00',\n",
       " '318.00',\n",
       " '282.00',\n",
       " '39.00',\n",
       " '169.00',\n",
       " '399.00',\n",
       " '2399.00',\n",
       " '249.00',\n",
       " '269.00',\n",
       " '299.00',\n",
       " '175.00',\n",
       " '299.00']"
      ]
     },
     "execution_count": 103,
     "metadata": {},
     "output_type": "execute_result"
    }
   ],
   "source": [
    "def get_price(html):\n",
    "    num = len(html.xpath('//*[@id=\"J_goodsList\"]/ul/li'))\n",
    "    price = []\n",
    "    for i in range(num):\n",
    "        xp = '//*[@id=\"J_goodsList\"]/ul/li[{}]/div/div[2]/strong/i/text()'.format(i+1)\n",
    "        price.append(html.xpath(xp)[0])\n",
    "    return price\n",
    "price = get_price(html)\n",
    "price"
   ]
  },
  {
   "cell_type": "code",
   "execution_count": 85,
   "metadata": {},
   "outputs": [
    {
     "data": {
      "text/plain": [
       "60"
      ]
     },
     "execution_count": 85,
     "metadata": {},
     "output_type": "execute_result"
    }
   ],
   "source": [
    "num = len(html.xpath('//*[@id=\"J_goodsList\"]/ul/li'))\n",
    "num"
   ]
  },
  {
   "cell_type": "code",
   "execution_count": 109,
   "metadata": {},
   "outputs": [],
   "source": [
    "browser.quit()"
   ]
  },
  {
   "cell_type": "code",
   "execution_count": null,
   "metadata": {},
   "outputs": [],
   "source": []
  }
 ],
 "metadata": {
  "kernelspec": {
   "display_name": "Python 3",
   "language": "python",
   "name": "python3"
  },
  "language_info": {
   "codemirror_mode": {
    "name": "ipython",
    "version": 3
   },
   "file_extension": ".py",
   "mimetype": "text/x-python",
   "name": "python",
   "nbconvert_exporter": "python",
   "pygments_lexer": "ipython3",
   "version": "3.6.4"
  }
 },
 "nbformat": 4,
 "nbformat_minor": 2
}
